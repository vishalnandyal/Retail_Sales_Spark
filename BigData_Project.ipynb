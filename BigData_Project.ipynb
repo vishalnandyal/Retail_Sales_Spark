{
  "cells": [
    {
      "cell_type": "code",
      "execution_count": null,
      "id": "559ac9ae",
      "metadata": {
        "id": "559ac9ae"
      },
      "outputs": [],
      "source": [
        "from pyspark.sql import SparkSession\n",
        "import numpy as np\n",
        "import pandas as pd\n",
        "import json\n",
        "import pyspark.sql.functions as F\n",
        "import pyspark.sql\n",
        "from pyspark.sql.functions import col, skewness, kurtosis\n",
        "from pyspark.context import SparkContext\n",
        "from pyspark.sql.functions import * \n",
        "from pyspark.sql.functions import isnan, when, count, col\n",
        "from pyspark.sql.functions import when\n",
        "from pyspark.sql.functions import UserDefinedFunction\n",
        "from pyspark.sql.functions import from_unixtime, unix_timestamp\n",
        "from pyspark.sql.types import StringType\n",
        "from datetime import date, timedelta, datetime\n",
        "import time"
      ]
    },
    {
      "cell_type": "code",
      "execution_count": null,
      "id": "9db67e11",
      "metadata": {
        "id": "9db67e11"
      },
      "outputs": [],
      "source": [
        "# Set up a SparkSession\n",
        "from pyspark.sql import SparkSession\n",
        "spark = SparkSession.builder.appName(\"capstone\").getOrCreate()"
      ]
    },
    {
      "cell_type": "code",
      "execution_count": null,
      "id": "f2527526",
      "metadata": {
        "id": "f2527526"
      },
      "outputs": [],
      "source": [
        "def load_data(data):\n",
        "    t1=time.time()\n",
        "    dat = spark.read.options(header=True, inferSchema=True).csv(data)\n",
        "    t2=time.time()\n",
        "    print(\"Duration:\", np.round((t2-t1), 2), \"seconds\")\n",
        "    return(dat)"
      ]
    },
    {
      "cell_type": "code",
      "execution_count": null,
      "id": "3eb5f1ac",
      "metadata": {
        "id": "3eb5f1ac",
        "outputId": "29d1a96a-a584-41d2-97c5-08a5630a69b2"
      },
      "outputs": [
        {
          "name": "stdout",
          "output_type": "stream",
          "text": [
            "Duration: 4.66 seconds\n"
          ]
        }
      ],
      "source": [
        "df1 = load_data('OnlineRetail.csv')"
      ]
    },
    {
      "cell_type": "code",
      "execution_count": null,
      "id": "0e71769a",
      "metadata": {
        "id": "0e71769a",
        "outputId": "9931044d-0cbe-4664-b8c6-fa67a72371a6"
      },
      "outputs": [
        {
          "name": "stdout",
          "output_type": "stream",
          "text": [
            "Data shape (rows, columns): 541909 x 8\n"
          ]
        }
      ],
      "source": [
        "def datashape(data):\n",
        "    print(\"Data shape (rows, columns):\", data.count(), \"x\", len(data.columns))\n",
        "    \n",
        "datashape(df1)\n",
        "#datashape(df2)"
      ]
    },
    {
      "cell_type": "code",
      "execution_count": null,
      "id": "ba8015cb",
      "metadata": {
        "id": "ba8015cb",
        "outputId": "b3fcaaa9-7628-49c3-f392-3f64f8fe46b2"
      },
      "outputs": [
        {
          "name": "stdout",
          "output_type": "stream",
          "text": [
            "+---------+---------+--------------------+--------+--------------+---------+----------+--------------+\n",
            "|InvoiceNo|StockCode|         Description|Quantity|   InvoiceDate|UnitPrice|CustomerID|       Country|\n",
            "+---------+---------+--------------------+--------+--------------+---------+----------+--------------+\n",
            "|   536365|   85123A|WHITE HANGING HEA...|       6|12/1/2010 8:26|     2.55|     17850|United Kingdom|\n",
            "|   536365|    71053| WHITE METAL LANTERN|       6|12/1/2010 8:26|     3.39|     17850|United Kingdom|\n",
            "|   536365|   84406B|CREAM CUPID HEART...|       8|12/1/2010 8:26|     2.75|     17850|United Kingdom|\n",
            "|   536365|   84029G|KNITTED UNION FLA...|       6|12/1/2010 8:26|     3.39|     17850|United Kingdom|\n",
            "|   536365|   84029E|RED WOOLLY HOTTIE...|       6|12/1/2010 8:26|     3.39|     17850|United Kingdom|\n",
            "+---------+---------+--------------------+--------+--------------+---------+----------+--------------+\n",
            "\n"
          ]
        }
      ],
      "source": [
        "df1.limit(5).show()"
      ]
    },
    {
      "cell_type": "code",
      "execution_count": null,
      "id": "b133057e",
      "metadata": {
        "id": "b133057e"
      },
      "outputs": [],
      "source": [
        "spark.conf.set(\"spark.sql.repl.eagerEval.enabled\", True)"
      ]
    },
    {
      "cell_type": "code",
      "execution_count": null,
      "id": "f56d4734",
      "metadata": {
        "id": "f56d4734",
        "outputId": "d5197739-43e0-4986-f912-ca77adb42be7"
      },
      "outputs": [
        {
          "data": {
            "text/html": [
              "<div>\n",
              "<style scoped>\n",
              "    .dataframe tbody tr th:only-of-type {\n",
              "        vertical-align: middle;\n",
              "    }\n",
              "\n",
              "    .dataframe tbody tr th {\n",
              "        vertical-align: top;\n",
              "    }\n",
              "\n",
              "    .dataframe thead th {\n",
              "        text-align: right;\n",
              "    }\n",
              "</style>\n",
              "<table border=\"1\" class=\"dataframe\">\n",
              "  <thead>\n",
              "    <tr style=\"text-align: right;\">\n",
              "      <th>summary</th>\n",
              "      <th>count</th>\n",
              "      <th>mean</th>\n",
              "      <th>stddev</th>\n",
              "      <th>min</th>\n",
              "      <th>max</th>\n",
              "    </tr>\n",
              "  </thead>\n",
              "  <tbody>\n",
              "    <tr>\n",
              "      <th>InvoiceNo</th>\n",
              "      <td>541909</td>\n",
              "      <td>559965.752026781</td>\n",
              "      <td>13428.417280805148</td>\n",
              "      <td>536365</td>\n",
              "      <td>C581569</td>\n",
              "    </tr>\n",
              "    <tr>\n",
              "      <th>StockCode</th>\n",
              "      <td>541909</td>\n",
              "      <td>27623.240210938104</td>\n",
              "      <td>16799.73762842771</td>\n",
              "      <td>10002</td>\n",
              "      <td>m</td>\n",
              "    </tr>\n",
              "    <tr>\n",
              "      <th>Description</th>\n",
              "      <td>540455</td>\n",
              "      <td>20713.0</td>\n",
              "      <td>None</td>\n",
              "      <td>4 PURPLE FLOCK DINNER CANDLES</td>\n",
              "      <td>wrongly sold sets</td>\n",
              "    </tr>\n",
              "    <tr>\n",
              "      <th>Quantity</th>\n",
              "      <td>541909</td>\n",
              "      <td>9.55224954743324</td>\n",
              "      <td>218.08115785023355</td>\n",
              "      <td>-80995</td>\n",
              "      <td>80995</td>\n",
              "    </tr>\n",
              "    <tr>\n",
              "      <th>InvoiceDate</th>\n",
              "      <td>541909</td>\n",
              "      <td>None</td>\n",
              "      <td>None</td>\n",
              "      <td>1/10/2011 10:04</td>\n",
              "      <td>9/9/2011 9:52</td>\n",
              "    </tr>\n",
              "    <tr>\n",
              "      <th>UnitPrice</th>\n",
              "      <td>541909</td>\n",
              "      <td>4.611113626083471</td>\n",
              "      <td>96.75985306117803</td>\n",
              "      <td>-11062.06</td>\n",
              "      <td>38970.0</td>\n",
              "    </tr>\n",
              "    <tr>\n",
              "      <th>CustomerID</th>\n",
              "      <td>406829</td>\n",
              "      <td>15287.690570239585</td>\n",
              "      <td>1713.6003033216148</td>\n",
              "      <td>12346</td>\n",
              "      <td>18287</td>\n",
              "    </tr>\n",
              "    <tr>\n",
              "      <th>Country</th>\n",
              "      <td>541909</td>\n",
              "      <td>None</td>\n",
              "      <td>None</td>\n",
              "      <td>Australia</td>\n",
              "      <td>Unspecified</td>\n",
              "    </tr>\n",
              "  </tbody>\n",
              "</table>\n",
              "</div>"
            ],
            "text/plain": [
              "summary       count                mean              stddev  \\\n",
              "InvoiceNo    541909    559965.752026781  13428.417280805148   \n",
              "StockCode    541909  27623.240210938104   16799.73762842771   \n",
              "Description  540455             20713.0                None   \n",
              "Quantity     541909    9.55224954743324  218.08115785023355   \n",
              "InvoiceDate  541909                None                None   \n",
              "UnitPrice    541909   4.611113626083471   96.75985306117803   \n",
              "CustomerID   406829  15287.690570239585  1713.6003033216148   \n",
              "Country      541909                None                None   \n",
              "\n",
              "summary                                 min                max  \n",
              "InvoiceNo                            536365            C581569  \n",
              "StockCode                             10002                  m  \n",
              "Description   4 PURPLE FLOCK DINNER CANDLES  wrongly sold sets  \n",
              "Quantity                             -80995              80995  \n",
              "InvoiceDate                 1/10/2011 10:04      9/9/2011 9:52  \n",
              "UnitPrice                         -11062.06            38970.0  \n",
              "CustomerID                            12346              18287  \n",
              "Country                           Australia        Unspecified  "
            ]
          },
          "execution_count": 51,
          "metadata": {},
          "output_type": "execute_result"
        }
      ],
      "source": [
        "summary = df1.describe().toPandas()\n",
        "summary = summary.T\n",
        "summary.columns = summary.iloc[0]\n",
        "summary = summary.drop(summary.index[0])\n",
        "summary"
      ]
    },
    {
      "cell_type": "code",
      "execution_count": null,
      "id": "9aec1a73",
      "metadata": {
        "id": "9aec1a73",
        "outputId": "f7a48283-42b1-4e8f-bb00-015e973ab4f4"
      },
      "outputs": [
        {
          "data": {
            "text/html": [
              "<table border='1'>\n",
              "<tr><th>InvoiceNo</th><th>StockCode</th><th>Description</th><th>Quantity</th><th>InvoiceDate</th><th>UnitPrice</th><th>CustomerID</th><th>Country</th></tr>\n",
              "<tr><td>0</td><td>0</td><td>1454</td><td>0</td><td>0</td><td>0</td><td>135080</td><td>0</td></tr>\n",
              "</table>\n"
            ],
            "text/plain": [
              "+---------+---------+-----------+--------+-----------+---------+----------+-------+\n",
              "|InvoiceNo|StockCode|Description|Quantity|InvoiceDate|UnitPrice|CustomerID|Country|\n",
              "+---------+---------+-----------+--------+-----------+---------+----------+-------+\n",
              "|        0|        0|       1454|       0|          0|        0|    135080|      0|\n",
              "+---------+---------+-----------+--------+-----------+---------+----------+-------+"
            ]
          },
          "execution_count": 52,
          "metadata": {},
          "output_type": "execute_result"
        }
      ],
      "source": [
        "df1.select([count(when(isnan(c) | col(c).isNull(), c)).alias(c) for c in df1.columns])"
      ]
    },
    {
      "cell_type": "code",
      "execution_count": null,
      "id": "f9b01729",
      "metadata": {
        "id": "f9b01729"
      },
      "outputs": [],
      "source": [
        "df1 = df1.replace(['EIRE'],['Ireland'])"
      ]
    },
    {
      "cell_type": "code",
      "execution_count": null,
      "id": "6049910f",
      "metadata": {
        "id": "6049910f"
      },
      "outputs": [],
      "source": [
        "df1 = df1.withColumn(\"Quantity\", col(\"Quantity\").cast(\"Float\"))"
      ]
    },
    {
      "cell_type": "code",
      "execution_count": null,
      "id": "0f340835",
      "metadata": {
        "id": "0f340835",
        "outputId": "6a14646d-b814-4c18-b12b-483445d5be61"
      },
      "outputs": [
        {
          "data": {
            "text/html": [
              "<table border='1'>\n",
              "<tr><th>InvoiceDate</th><th>count</th></tr>\n",
              "<tr><td>1/10/2011 10:04</td><td>1</td></tr>\n",
              "<tr><td>1/10/2011 10:07</td><td>1</td></tr>\n",
              "<tr><td>1/10/2011 10:08</td><td>1</td></tr>\n",
              "<tr><td>1/10/2011 10:32</td><td>23</td></tr>\n",
              "<tr><td>1/10/2011 10:35</td><td>17</td></tr>\n",
              "<tr><td>1/10/2011 10:36</td><td>1</td></tr>\n",
              "<tr><td>1/10/2011 10:44</td><td>1</td></tr>\n",
              "<tr><td>1/10/2011 10:58</td><td>46</td></tr>\n",
              "<tr><td>1/10/2011 11:09</td><td>19</td></tr>\n",
              "<tr><td>1/10/2011 11:22</td><td>42</td></tr>\n",
              "</table>\n"
            ],
            "text/plain": [
              "+---------------+-----+\n",
              "|    InvoiceDate|count|\n",
              "+---------------+-----+\n",
              "|1/10/2011 10:04|    1|\n",
              "|1/10/2011 10:07|    1|\n",
              "|1/10/2011 10:08|    1|\n",
              "|1/10/2011 10:32|   23|\n",
              "|1/10/2011 10:35|   17|\n",
              "|1/10/2011 10:36|    1|\n",
              "|1/10/2011 10:44|    1|\n",
              "|1/10/2011 10:58|   46|\n",
              "|1/10/2011 11:09|   19|\n",
              "|1/10/2011 11:22|   42|\n",
              "+---------------+-----+"
            ]
          },
          "execution_count": 57,
          "metadata": {},
          "output_type": "execute_result"
        }
      ],
      "source": [
        "df1.groupby(\"InvoiceDate\").count().sort(\"InvoiceDate\", ascending=True).limit(10)"
      ]
    },
    {
      "cell_type": "code",
      "execution_count": null,
      "id": "92fbb3ca",
      "metadata": {
        "id": "92fbb3ca",
        "outputId": "a63251c2-56c1-476a-a318-7cb101367559"
      },
      "outputs": [
        {
          "data": {
            "text/html": [
              "<table border='1'>\n",
              "<tr><th>InvoiceNo</th><th>StockCode</th><th>Description</th><th>Quantity</th><th>InvoiceDate</th><th>UnitPrice</th><th>CustomerID</th><th>Country</th><th>Amount</th></tr>\n",
              "<tr><td>536365</td><td>85123A</td><td>WHITE HANGING HEA...</td><td>6.0</td><td>12/1/2010 8:26</td><td>2.55</td><td>17850</td><td>United Kingdom</td><td>15.299999999999999</td></tr>\n",
              "<tr><td>536365</td><td>71053</td><td>WHITE METAL LANTERN</td><td>6.0</td><td>12/1/2010 8:26</td><td>3.39</td><td>17850</td><td>United Kingdom</td><td>20.34</td></tr>\n",
              "<tr><td>536365</td><td>84406B</td><td>CREAM CUPID HEART...</td><td>8.0</td><td>12/1/2010 8:26</td><td>2.75</td><td>17850</td><td>United Kingdom</td><td>22.0</td></tr>\n",
              "<tr><td>536365</td><td>84029G</td><td>KNITTED UNION FLA...</td><td>6.0</td><td>12/1/2010 8:26</td><td>3.39</td><td>17850</td><td>United Kingdom</td><td>20.34</td></tr>\n",
              "<tr><td>536365</td><td>84029E</td><td>RED WOOLLY HOTTIE...</td><td>6.0</td><td>12/1/2010 8:26</td><td>3.39</td><td>17850</td><td>United Kingdom</td><td>20.34</td></tr>\n",
              "</table>\n"
            ],
            "text/plain": [
              "+---------+---------+--------------------+--------+--------------+---------+----------+--------------+------------------+\n",
              "|InvoiceNo|StockCode|         Description|Quantity|   InvoiceDate|UnitPrice|CustomerID|       Country|            Amount|\n",
              "+---------+---------+--------------------+--------+--------------+---------+----------+--------------+------------------+\n",
              "|   536365|   85123A|WHITE HANGING HEA...|     6.0|12/1/2010 8:26|     2.55|     17850|United Kingdom|15.299999999999999|\n",
              "|   536365|    71053| WHITE METAL LANTERN|     6.0|12/1/2010 8:26|     3.39|     17850|United Kingdom|             20.34|\n",
              "|   536365|   84406B|CREAM CUPID HEART...|     8.0|12/1/2010 8:26|     2.75|     17850|United Kingdom|              22.0|\n",
              "|   536365|   84029G|KNITTED UNION FLA...|     6.0|12/1/2010 8:26|     3.39|     17850|United Kingdom|             20.34|\n",
              "|   536365|   84029E|RED WOOLLY HOTTIE...|     6.0|12/1/2010 8:26|     3.39|     17850|United Kingdom|             20.34|\n",
              "+---------+---------+--------------------+--------+--------------+---------+----------+--------------+------------------+"
            ]
          },
          "execution_count": 59,
          "metadata": {},
          "output_type": "execute_result"
        }
      ],
      "source": [
        "df1 = df1.withColumn(\"Amount\", col(\"Quantity\") * col(\"UnitPrice\"))\n",
        "df1.limit(5)"
      ]
    },
    {
      "cell_type": "code",
      "execution_count": null,
      "id": "a6a3b876",
      "metadata": {
        "id": "a6a3b876",
        "outputId": "2394f72b-9a1a-4540-aefe-547509cc681d"
      },
      "outputs": [
        {
          "data": {
            "text/html": [
              "<table border='1'>\n",
              "<tr><th>Country</th><th>count</th></tr>\n",
              "<tr><td>United Kingdom</td><td>495478</td></tr>\n",
              "<tr><td>Germany</td><td>9495</td></tr>\n",
              "<tr><td>France</td><td>8557</td></tr>\n",
              "<tr><td>Ireland</td><td>8196</td></tr>\n",
              "<tr><td>Spain</td><td>2533</td></tr>\n",
              "<tr><td>Netherlands</td><td>2371</td></tr>\n",
              "<tr><td>Belgium</td><td>2069</td></tr>\n",
              "<tr><td>Switzerland</td><td>2002</td></tr>\n",
              "<tr><td>Portugal</td><td>1519</td></tr>\n",
              "<tr><td>Australia</td><td>1259</td></tr>\n",
              "</table>\n"
            ],
            "text/plain": [
              "+--------------+------+\n",
              "|       Country| count|\n",
              "+--------------+------+\n",
              "|United Kingdom|495478|\n",
              "|       Germany|  9495|\n",
              "|        France|  8557|\n",
              "|       Ireland|  8196|\n",
              "|         Spain|  2533|\n",
              "|   Netherlands|  2371|\n",
              "|       Belgium|  2069|\n",
              "|   Switzerland|  2002|\n",
              "|      Portugal|  1519|\n",
              "|     Australia|  1259|\n",
              "+--------------+------+"
            ]
          },
          "execution_count": 60,
          "metadata": {},
          "output_type": "execute_result"
        }
      ],
      "source": [
        "df1.groupBy(\"Country\").count().sort(\"count\", ascending=False).limit(10)"
      ]
    },
    {
      "cell_type": "code",
      "execution_count": null,
      "id": "ed6ee935",
      "metadata": {
        "id": "ed6ee935",
        "outputId": "c439dbf4-9b02-4995-8ce0-e29e2e28267b"
      },
      "outputs": [
        {
          "data": {
            "text/html": [
              "<table border='1'>\n",
              "<tr><th>InvoiceNo</th><th>StockCode</th><th>Description</th><th>Quantity</th><th>InvoiceDate</th><th>UnitPrice</th><th>CustomerID</th><th>Country</th><th>Amount</th></tr>\n",
              "<tr><td>536540</td><td>22968</td><td>ROSE COTTAGE KEEP...</td><td>4.0</td><td>12/1/2010 14:05</td><td>9.95</td><td>14911</td><td>Ireland</td><td>39.8</td></tr>\n",
              "<tr><td>536540</td><td>85071A</td><td>BLUE CHARLIE+LOLA...</td><td>6.0</td><td>12/1/2010 14:05</td><td>2.95</td><td>14911</td><td>Ireland</td><td>17.700000000000003</td></tr>\n",
              "<tr><td>536540</td><td>85071C</td><td>&quot;CHARLIE+LOLA&quot;&quot;EX...</td><td>6.0</td><td>12/1/2010 14:05</td><td>2.55</td><td>14911</td><td>Ireland</td><td>15.299999999999999</td></tr>\n",
              "<tr><td>536540</td><td>22355</td><td>CHARLOTTE BAG SUK...</td><td>50.0</td><td>12/1/2010 14:05</td><td>0.85</td><td>14911</td><td>Ireland</td><td>42.5</td></tr>\n",
              "<tr><td>536540</td><td>21579</td><td>LOLITA  DESIGN  C...</td><td>6.0</td><td>12/1/2010 14:05</td><td>2.25</td><td>14911</td><td>Ireland</td><td>13.5</td></tr>\n",
              "</table>\n"
            ],
            "text/plain": [
              "+---------+---------+--------------------+--------+---------------+---------+----------+-------+------------------+\n",
              "|InvoiceNo|StockCode|         Description|Quantity|    InvoiceDate|UnitPrice|CustomerID|Country|            Amount|\n",
              "+---------+---------+--------------------+--------+---------------+---------+----------+-------+------------------+\n",
              "|   536540|    22968|ROSE COTTAGE KEEP...|     4.0|12/1/2010 14:05|     9.95|     14911|Ireland|              39.8|\n",
              "|   536540|   85071A|BLUE CHARLIE+LOLA...|     6.0|12/1/2010 14:05|     2.95|     14911|Ireland|17.700000000000003|\n",
              "|   536540|   85071C|\"CHARLIE+LOLA\"\"EX...|     6.0|12/1/2010 14:05|     2.55|     14911|Ireland|15.299999999999999|\n",
              "|   536540|    22355|CHARLOTTE BAG SUK...|    50.0|12/1/2010 14:05|     0.85|     14911|Ireland|              42.5|\n",
              "|   536540|    21579|LOLITA  DESIGN  C...|     6.0|12/1/2010 14:05|     2.25|     14911|Ireland|              13.5|\n",
              "+---------+---------+--------------------+--------+---------------+---------+----------+-------+------------------+"
            ]
          },
          "execution_count": 68,
          "metadata": {},
          "output_type": "execute_result"
        }
      ],
      "source": [
        "df1[df1.Country.isin('Ireland')].limit(5)"
      ]
    },
    {
      "cell_type": "code",
      "execution_count": null,
      "id": "08445245",
      "metadata": {
        "id": "08445245",
        "outputId": "e4a9b217-59ac-464e-dd17-0fec165c46c2"
      },
      "outputs": [
        {
          "data": {
            "text/html": [
              "<table border='1'>\n",
              "<tr><th>InvoiceNo</th><th>StockCode</th><th>Description</th><th>Quantity</th><th>InvoiceDate</th><th>UnitPrice</th><th>CustomerID</th><th>Country</th><th>Amount</th></tr>\n",
              "<tr><td>541431</td><td>23166</td><td>MEDIUM CERAMIC TO...</td><td>74215.0</td><td>1/18/2011 10:01</td><td>1.04</td><td>12346</td><td>United Kingdom</td><td>77183.6</td></tr>\n",
              "<tr><td>581483</td><td>23843</td><td>PAPER CRAFT , LIT...</td><td>80995.0</td><td>12/9/2011 9:15</td><td>2.08</td><td>16446</td><td>United Kingdom</td><td>168469.6</td></tr>\n",
              "</table>\n"
            ],
            "text/plain": [
              "+---------+---------+--------------------+--------+---------------+---------+----------+--------------+--------+\n",
              "|InvoiceNo|StockCode|         Description|Quantity|    InvoiceDate|UnitPrice|CustomerID|       Country|  Amount|\n",
              "+---------+---------+--------------------+--------+---------------+---------+----------+--------------+--------+\n",
              "|   541431|    23166|MEDIUM CERAMIC TO...| 74215.0|1/18/2011 10:01|     1.04|     12346|United Kingdom| 77183.6|\n",
              "|   581483|    23843|PAPER CRAFT , LIT...| 80995.0| 12/9/2011 9:15|     2.08|     16446|United Kingdom|168469.6|\n",
              "+---------+---------+--------------------+--------+---------------+---------+----------+--------------+--------+"
            ]
          },
          "execution_count": 63,
          "metadata": {},
          "output_type": "execute_result"
        }
      ],
      "source": [
        "df1.filter(df1.Quantity > 50000)"
      ]
    },
    {
      "cell_type": "code",
      "execution_count": null,
      "id": "d104fe11",
      "metadata": {
        "id": "d104fe11",
        "outputId": "47ac0e93-fbd3-4e8b-e4cc-c36f61e684a8"
      },
      "outputs": [
        {
          "data": {
            "text/html": [
              "<table border='1'>\n",
              "<tr><th>InvoiceDate</th><th>count</th></tr>\n",
              "<tr><td>1/10/2011 10:04</td><td>1</td></tr>\n",
              "<tr><td>1/10/2011 10:07</td><td>1</td></tr>\n",
              "<tr><td>1/10/2011 10:08</td><td>1</td></tr>\n",
              "<tr><td>1/10/2011 10:32</td><td>23</td></tr>\n",
              "<tr><td>1/10/2011 10:35</td><td>17</td></tr>\n",
              "<tr><td>1/10/2011 10:36</td><td>1</td></tr>\n",
              "<tr><td>1/10/2011 10:44</td><td>1</td></tr>\n",
              "<tr><td>1/10/2011 10:58</td><td>46</td></tr>\n",
              "<tr><td>1/10/2011 11:09</td><td>19</td></tr>\n",
              "<tr><td>1/10/2011 11:22</td><td>42</td></tr>\n",
              "</table>\n"
            ],
            "text/plain": [
              "+---------------+-----+\n",
              "|    InvoiceDate|count|\n",
              "+---------------+-----+\n",
              "|1/10/2011 10:04|    1|\n",
              "|1/10/2011 10:07|    1|\n",
              "|1/10/2011 10:08|    1|\n",
              "|1/10/2011 10:32|   23|\n",
              "|1/10/2011 10:35|   17|\n",
              "|1/10/2011 10:36|    1|\n",
              "|1/10/2011 10:44|    1|\n",
              "|1/10/2011 10:58|   46|\n",
              "|1/10/2011 11:09|   19|\n",
              "|1/10/2011 11:22|   42|\n",
              "+---------------+-----+"
            ]
          },
          "execution_count": 66,
          "metadata": {},
          "output_type": "execute_result"
        }
      ],
      "source": [
        "df1.groupby(\"InvoiceDate\").count().sort(\"InvoiceDate\", ascending=True).limit(10)"
      ]
    }
  ],
  "metadata": {
    "kernelspec": {
      "display_name": "Python 3",
      "language": "python",
      "name": "python3"
    },
    "language_info": {
      "codemirror_mode": {
        "name": "ipython",
        "version": 3
      },
      "file_extension": ".py",
      "mimetype": "text/x-python",
      "name": "python",
      "nbconvert_exporter": "python",
      "pygments_lexer": "ipython3",
      "version": "3.6.9"
    },
    "colab": {
      "name": "BigData_Project.ipynb",
      "provenance": [],
      "collapsed_sections": []
    }
  },
  "nbformat": 4,
  "nbformat_minor": 5
}